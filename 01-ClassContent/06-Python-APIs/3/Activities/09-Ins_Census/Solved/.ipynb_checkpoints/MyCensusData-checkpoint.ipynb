{
 "cells": [
  {
   "cell_type": "code",
   "execution_count": 9,
   "metadata": {},
   "outputs": [],
   "source": [
    "# import Dependencies\n",
    "import requests\n",
    "import pandas as pd\n",
    "from census import Census\n",
    "from us import states\n",
    "\n",
    "\n",
    "c = Census(api_key, year=2013)"
   ]
  },
  {
   "cell_type": "code",
   "execution_count": 10,
   "metadata": {},
   "outputs": [],
   "source": [
    "# configure key\n",
    "api_key = '95131c6291fcbaa6957370c7d5b7802a76088095'\n",
    "from config import api_key\n",
    "c = Census(api_key, year=2013)\n",
    " "
   ]
  },
  {
   "cell_type": "code",
   "execution_count": 11,
   "metadata": {},
   "outputs": [
    {
     "ename": "SyntaxError",
     "evalue": "invalid syntax (<ipython-input-11-a379cf7b0725>, line 6)",
     "output_type": "error",
     "traceback": [
      "\u001b[1;36m  File \u001b[1;32m\"<ipython-input-11-a379cf7b0725>\"\u001b[1;36m, line \u001b[1;32m6\u001b[0m\n\u001b[1;33m    censusDf = pd.censusDf(censusData)\u001b[0m\n\u001b[1;37m           ^\u001b[0m\n\u001b[1;31mSyntaxError\u001b[0m\u001b[1;31m:\u001b[0m invalid syntax\n"
     ]
    }
   ],
   "source": [
    "censusData = c.acs5.get(('NAME', \"B19013_001E\", \"B01003_001E\", \"B01002_001E\",\n",
    "                         \"B19301_001E\",\n",
    "                         \"B17001_002E\"),\n",
    "                        {'for': 'zip code tabulation area'}\n",
    "          # {'for': 'state:{}'.format(states.MD.fips)})\n",
    "censusDf = pd.censusDf(censusData)\n",
    "censusDf.head()"
   ]
  },
  {
   "cell_type": "code",
   "execution_count": null,
   "metadata": {},
   "outputs": [],
   "source": [
    "censusDf = censusDf.rename(columns = {\n",
    "    \n",
    "})"
   ]
  },
  {
   "cell_type": "code",
   "execution_count": null,
   "metadata": {},
   "outputs": [],
   "source": []
  },
  {
   "cell_type": "code",
   "execution_count": null,
   "metadata": {},
   "outputs": [],
   "source": []
  },
  {
   "cell_type": "code",
   "execution_count": null,
   "metadata": {},
   "outputs": [],
   "source": [
    "# import gmaps\n",
    "# import os\n",
    "# from config import api_key\n",
    "# # import numpy as np\n",
    "# # import matplotlib.pyplot as plt\n",
    "# # import requests\n",
    "\n",
    "\n",
    "# # Census API Key\n",
    "# from config import api_key"
   ]
  }
 ],
 "metadata": {
  "kernelspec": {
   "display_name": "Python 3",
   "language": "python",
   "name": "python3"
  },
  "language_info": {
   "codemirror_mode": {
    "name": "ipython",
    "version": 3
   },
   "file_extension": ".py",
   "mimetype": "text/x-python",
   "name": "python",
   "nbconvert_exporter": "python",
   "pygments_lexer": "ipython3",
   "version": "3.6.5"
  }
 },
 "nbformat": 4,
 "nbformat_minor": 2
}
