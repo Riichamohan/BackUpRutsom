{
 "cells": [
  {
   "cell_type": "code",
   "execution_count": 6,
   "metadata": {},
   "outputs": [],
   "source": [
    "# Dependencies\n",
    "import os\n",
    "from bs4 import BeautifulSoup as bs"
   ]
  },
  {
   "cell_type": "code",
   "execution_count": 7,
   "metadata": {},
   "outputs": [],
   "source": [
    "# # Read HTML from file\n",
    "# filepath = os.path.join(\"..\", \"Resources\", \"template.html\")\n",
    "# with open(filepath) as file:\n",
    "#     html = file.read()"
   ]
  },
  {
   "cell_type": "code",
   "execution_count": 13,
   "metadata": {},
   "outputs": [],
   "source": [
    "# Create a Beautiful Soup object\n",
    "html_str = \"\"\"\n",
    "<!DOCTYPE html>\n",
    "<html lang=\"en\">\n",
    "<head>\n",
    "    <meta charset=\"UTF-8\">\n",
    "    <title>Dom - Document Object Maode</title>\n",
    "</head>\n",
    "<body>\n",
    "    <h1>Hey this is H1</h1>\n",
    "    <p>1.  I like HTML but when I have it it is better parsed 1....</p>\n",
    "    <p>2.  I like HTML but when I have it it is better parsed 2....</p>\n",
    "    <p> 3 I like HTML but when I have it it is better parsed 3....</p>\n",
    "</body>\n",
    "</html>\n",
    "\"\"\"\n",
    "\n"
   ]
  },
  {
   "cell_type": "code",
   "execution_count": 15,
   "metadata": {},
   "outputs": [
    {
     "data": {
      "text/plain": [
       "bs4.BeautifulSoup"
      ]
     },
     "execution_count": 15,
     "metadata": {},
     "output_type": "execute_result"
    }
   ],
   "source": [
    "soup = bs(html_str, 'html.parser')\n",
    "type(soup)"
   ]
  },
  {
   "cell_type": "code",
   "execution_count": 16,
   "metadata": {},
   "outputs": [
    {
     "name": "stdout",
     "output_type": "stream",
     "text": [
      "\n",
      "<!DOCTYPE html>\n",
      "\n",
      "<html lang=\"en\">\n",
      "<head>\n",
      "<meta charset=\"utf-8\"/>\n",
      "<title>Dom - Document Object Maode</title>\n",
      "</head>\n",
      "<body>\n",
      "<h1>Hey this is H1</h1>\n",
      "<p>1 I like HTML but when I have it it is better parsed 1....</p>\n",
      "<p>2 I like HTML but when I have it it is better parsed 2....</p>\n",
      "<p> 3 I like HTML but when I have it it is better parsed 3....</p>\n",
      "</body>\n",
      "</html>\n",
      "\n"
     ]
    }
   ],
   "source": [
    "print(soup)"
   ]
  },
  {
   "cell_type": "code",
   "execution_count": 17,
   "metadata": {},
   "outputs": [
    {
     "data": {
      "text/plain": [
       "<title>Dom - Document Object Maode</title>"
      ]
     },
     "execution_count": 17,
     "metadata": {},
     "output_type": "execute_result"
    }
   ],
   "source": [
    "# Extract title text\n",
    "soup.title\n"
   ]
  },
  {
   "cell_type": "code",
   "execution_count": 18,
   "metadata": {},
   "outputs": [
    {
     "data": {
      "text/plain": [
       "'Dom - Document Object Maode'"
      ]
     },
     "execution_count": 18,
     "metadata": {},
     "output_type": "execute_result"
    }
   ],
   "source": [
    "# get the title text only\n",
    "soup.title.text"
   ]
  },
  {
   "cell_type": "code",
   "execution_count": 19,
   "metadata": {},
   "outputs": [
    {
     "name": "stdout",
     "output_type": "stream",
     "text": [
      "<!DOCTYPE html>\n",
      "<html lang=\"en\">\n",
      " <head>\n",
      "  <meta charset=\"utf-8\"/>\n",
      "  <title>\n",
      "   Dom - Document Object Maode\n",
      "  </title>\n",
      " </head>\n",
      " <body>\n",
      "  <h1>\n",
      "   Hey this is H1\n",
      "  </h1>\n",
      "  <p>\n",
      "   1 I like HTML but when I have it it is better parsed 1....\n",
      "  </p>\n",
      "  <p>\n",
      "   2 I like HTML but when I have it it is better parsed 2....\n",
      "  </p>\n",
      "  <p>\n",
      "   3 I like HTML but when I have it it is better parsed 3....\n",
      "  </p>\n",
      " </body>\n",
      "</html>\n",
      "\n"
     ]
    }
   ],
   "source": [
    "# Print all paragraph texts\n",
    "print(soup.prettify())"
   ]
  },
  {
   "cell_type": "code",
   "execution_count": 25,
   "metadata": {},
   "outputs": [
    {
     "data": {
      "text/plain": [
       "'\\nHey this is H1\\n1 I like HTML but when I have it it is better parsed 1....\\n2 I like HTML but when I have it it is better parsed 2....\\n 3 I like HTML but when I have it it is better parsed 3....\\n'"
      ]
     },
     "execution_count": 25,
     "metadata": {},
     "output_type": "execute_result"
    }
   ],
   "source": [
    "# get soup.body\n",
    "soup.body.text"
   ]
  },
  {
   "cell_type": "code",
   "execution_count": 26,
   "metadata": {},
   "outputs": [
    {
     "data": {
      "text/plain": [
       "'1 I like HTML but when I have it it is better parsed 1....'"
      ]
     },
     "execution_count": 26,
     "metadata": {},
     "output_type": "execute_result"
    }
   ],
   "source": [
    "# soup.body to get the text of the body \n",
    "soup.body.p.text"
   ]
  },
  {
   "cell_type": "code",
   "execution_count": 36,
   "metadata": {},
   "outputs": [
    {
     "data": {
      "text/plain": [
       "[<p>1 I like HTML but when I have it it is better parsed 1....</p>,\n",
       " <p>2 I like HTML but when I have it it is better parsed 2....</p>,\n",
       " <p> 3 I like HTML but when I have it it is better parsed 3....</p>]"
      ]
     },
     "execution_count": 36,
     "metadata": {},
     "output_type": "execute_result"
    }
   ],
   "source": [
    "# There are functions to get all the p)\n",
    "soup.body.find_all('p')\n"
   ]
  },
  {
   "cell_type": "code",
   "execution_count": 37,
   "metadata": {},
   "outputs": [],
   "source": [
    "para_txt = soup.body.find_all('p')"
   ]
  },
  {
   "cell_type": "code",
   "execution_count": 45,
   "metadata": {},
   "outputs": [
    {
     "name": "stdout",
     "output_type": "stream",
     "text": [
      "1 I like HTML but when I have it it is better parsed 1....\n",
      "2 I like HTML but when I have it it is better parsed 2....\n",
      " 3 I like HTML but when I have it it is better parsed 3....\n"
     ]
    }
   ],
   "source": [
    "for t in para_txt:\n",
    "    print(t.text)"
   ]
  },
  {
   "cell_type": "code",
   "execution_count": 46,
   "metadata": {},
   "outputs": [
    {
     "data": {
      "text/plain": [
       "<p>1 I like HTML but when I have it it is better parsed 1....</p>"
      ]
     },
     "execution_count": 46,
     "metadata": {},
     "output_type": "execute_result"
    }
   ],
   "source": [
    "        # or we can also do\n",
    "soup.body.find_all('p')[0]"
   ]
  },
  {
   "cell_type": "code",
   "execution_count": 48,
   "metadata": {},
   "outputs": [
    {
     "data": {
      "text/plain": [
       "'1 I like HTML but when I have it it is better parsed 1....'"
      ]
     },
     "execution_count": 48,
     "metadata": {},
     "output_type": "execute_result"
    }
   ],
   "source": [
    "        # or we can also do\n",
    "soup.body.find_all('p')[0].text"
   ]
  },
  {
   "cell_type": "code",
   "execution_count": null,
   "metadata": {
    "collapsed": true
   },
   "outputs": [],
   "source": [
    "# Print all ten headlines\n"
   ]
  },
  {
   "cell_type": "code",
   "execution_count": null,
   "metadata": {},
   "outputs": [],
   "source": [
    "# Print only the headlines\n"
   ]
  },
  {
   "cell_type": "code",
   "execution_count": null,
   "metadata": {},
   "outputs": [],
   "source": [
    "# <a href=\"https://www.cnn.com\" target = \"_blank\">Click here for CNN"
   ]
  },
  {
   "cell_type": "code",
   "execution_count": null,
   "metadata": {},
   "outputs": [],
   "source": [
    "<!DOCTYPE html>\n",
    "<!-- this is a comment -->\n",
    "<html lang = \"en-us\">\n",
    "<head>\n",
    "<title>This is the first page</title>\n",
    "<title>This is the 2nd page</title>\n",
    "</head>\n",
    "<body>\n",
    "    <h1>Hello World!!</h1>\n",
    "    <a href=\"https://www.cnn.com\" target = \"_blank\">Click here for CNN\n",
    "</body>\n",
    "<body>\n",
    "   \n",
    "<!--comment-->\n",
    "<!--table style=\"width:100%\"-->\n",
    "<table style=\"width:30%\" border = \"1\">\n",
    "        <tr>\n",
    "          <th>Firstname</th>\n",
    "          <th>Lastname</th> \n",
    "          <th>Age</th>\n",
    "        </tr>\n",
    "\n",
    "        <tr>\n",
    "          <td>Jill</td>\n",
    "          <td>Smith</td> \n",
    "          <td>50</td>\n",
    "        </tr>\n",
    "        <tr>\n",
    "          <td>Eve</td>\n",
    "          <td>Jackson</td> \n",
    "          <td>94</td>\n",
    "        </tr>\n",
    "\n",
    "        <html>\n",
    "<body>\n",
    "\n",
    "<h2>An unordered HTML list</h2>\n",
    "\n",
    "<ul>\n",
    "  <li>Coffee</li>\n",
    "  <li>Tea</li>\n",
    "  <li>Milk</li>\n",
    "</ul>  \n",
    "\n",
    "</body>\n",
    "      </table>\n",
    "\n",
    "\n",
    "    <!--img src=\"https://www.google.com/search?q=cat+images&tbm=isch&source=iu&ictx=1&fir=I0jdWhnK9jQQ7M%253A%252CzzeqIp7U3jok-M%252C_&usg=__0SpnifedC7EiQzjKWE_FGBNK3q8%3D&sa=X&ved=0ahUKEwi68O66gbncAhUMhuAKHcujAAEQ9QEIMTAD#imgrc=I0jdWhnK9jQQ7M:\"-->        \n",
    "    <img src=\"C:\\HTML\\cat.jpg\">\n",
    "    <a href=\"https://www.cnn.com\" target = \"_blank\">Click here for CNN\n",
    "</body>\n",
    "</html>"
   ]
  }
 ],
 "metadata": {
  "kernelspec": {
   "display_name": "Python 3",
   "language": "python",
   "name": "python3"
  },
  "language_info": {
   "codemirror_mode": {
    "name": "ipython",
    "version": 3
   },
   "file_extension": ".py",
   "mimetype": "text/x-python",
   "name": "python",
   "nbconvert_exporter": "python",
   "pygments_lexer": "ipython3",
   "version": "3.6.5"
  },
  "varInspector": {
   "cols": {
    "lenName": 16,
    "lenType": 16,
    "lenVar": 40
   },
   "kernels_config": {
    "python": {
     "delete_cmd_postfix": "",
     "delete_cmd_prefix": "del ",
     "library": "var_list.py",
     "varRefreshCmd": "print(var_dic_list())"
    },
    "r": {
     "delete_cmd_postfix": ") ",
     "delete_cmd_prefix": "rm(",
     "library": "var_list.r",
     "varRefreshCmd": "cat(var_dic_list()) "
    }
   },
   "types_to_exclude": [
    "module",
    "function",
    "builtin_function_or_method",
    "instance",
    "_Feature"
   ],
   "window_display": false
  }
 },
 "nbformat": 4,
 "nbformat_minor": 2
}
