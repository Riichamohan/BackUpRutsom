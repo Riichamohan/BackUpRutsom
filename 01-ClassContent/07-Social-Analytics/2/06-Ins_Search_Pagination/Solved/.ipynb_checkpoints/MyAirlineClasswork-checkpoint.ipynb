{
 "cells": [
  {
   "cell_type": "code",
   "execution_count": 1,
   "metadata": {},
   "outputs": [],
   "source": [
    "# Dependencies\n",
    "\n",
    "import tweepy\n",
    "import numpy as np\n",
    "import pandas as pd"
   ]
  },
  {
   "cell_type": "code",
   "execution_count": 2,
   "metadata": {},
   "outputs": [],
   "source": [
    "consumer_key = 'b2jDtC9vAdTpnuJDZkNPkwEYF'\n",
    "consumer_secret = 'xEo1L3eRSaE6J7uOIlYP0ohoNp0jikv3LKunjp9arE0YWn5tVo'\n",
    "access_token = '57237295-K2EPPUBgXZfz83NuA92RxkzETWThD4YW8lt3bhAcW'\n",
    "access_token_secret = '9GD3xt89mMZNCKWmDwQvnaWw3tQjaz0vgz4l4d90Fb7N0'"
   ]
  },
  {
   "cell_type": "code",
   "execution_count": 3,
   "metadata": {},
   "outputs": [],
   "source": [
    "# Import and Initialize Sentiment Analyzer\n",
    "from vaderSentiment.vaderSentiment import SentimentIntensityAnalyzer\n",
    "analyzer = SentimentIntensityAnalyzer()\n",
    "\n",
    "# Twitter API Keys\n",
    "from config import (consumer_key, \n",
    "                    consumer_secret, \n",
    "                    access_token, \n",
    "                    access_token_secret)\n",
    "\n",
    "# Setup Tweepy API Authentication\n",
    "auth = tweepy.OAuthHandler(consumer_key, consumer_secret)\n",
    "auth.set_access_token(access_token, access_token_secret)\n",
    "api = tweepy.API(auth, parser=tweepy.parsers.JSONParser())"
   ]
  },
  {
   "cell_type": "code",
   "execution_count": 11,
   "metadata": {
    "scrolled": false
   },
   "outputs": [
    {
     "name": "stderr",
     "output_type": "stream",
     "text": [
      "C:\\Users\\ravin\\AppData\\Local\\conda\\conda\\envs\\pythonData\\lib\\site-packages\\numpy\\core\\fromnumeric.py:2957: RuntimeWarning: Mean of empty slice.\n",
      "  out=out, **kwargs)\n",
      "C:\\Users\\ravin\\AppData\\Local\\conda\\conda\\envs\\pythonData\\lib\\site-packages\\numpy\\core\\_methods.py:80: RuntimeWarning: invalid value encountered in double_scalars\n",
      "  ret = ret.dtype.type(ret / rcount)\n"
     ]
    },
    {
     "name": "stdout",
     "output_type": "stream",
     "text": [
      "{'airline': '@SouthwestAir', 'compound': nan, 'positive': nan, 'negative': nan, 'neutral': nan}\n",
      "\n",
      "{'airline': '@AmericanAir', 'compound': nan, 'positive': nan, 'negative': nan, 'neutral': nan}\n",
      "\n",
      "{'airline': '@SpiritAirlines', 'compound': nan, 'positive': nan, 'negative': nan, 'neutral': nan}\n",
      "\n",
      "{'airline': '@Virginatlantic', 'compound': nan, 'positive': nan, 'negative': nan, 'neutral': nan}\n",
      "\n",
      "{'airline': '@Delta', 'compound': nan, 'positive': nan, 'negative': nan, 'neutral': nan}\n",
      "\n",
      "{'airline': '@AlaskaAir', 'compound': nan, 'positive': nan, 'negative': nan, 'neutral': nan}\n",
      "\n",
      "{'airline': '@KLM', 'compound': nan, 'positive': nan, 'negative': nan, 'neutral': nan}\n",
      "\n"
     ]
    }
   ],
   "source": [
    "# Target Search Term\n",
    "target_terms = (\"@SouthwestAir\", \"@AmericanAir\", \"@SpiritAirlines\",\n",
    "                \"@Virginatlantic\", \"@Delta\", \"@AlaskaAir\", \"@KLM\")\n",
    "\n",
    "# \"Real Person\" Filters\n",
    "min_tweets = 5\n",
    "max_tweets = 10000\n",
    "max_followers = 2500\n",
    "max_following = 2500\n",
    "lang = \"en\"\n",
    "\n",
    "# List to hold sentiment\n",
    "results_list = []\n",
    "\n",
    "# Loop through all target users\n",
    "for target in target_terms:\n",
    "\n",
    "    # Variable for holding the oldest tweet\n",
    "    oldest_tweet = None\n",
    "\n",
    "    # Variables for holding sentiments\n",
    "    compound_list = []\n",
    "    positive_list = []\n",
    "    negative_list = []\n",
    "    neutral_list = []\n",
    "\n",
    "    # Loop through 10 times\n",
    "    for x in range(10):\n",
    "\n",
    "        # Run search around each tweet\n",
    "        # YOUR CODE HERE\n",
    "        public_tweets = api.search(target, count=100, result_type='recent', max_id = oldest_tweet)\n",
    "        # Loop through all tweets\n",
    "        for tweet in public_tweets[\"statuses\"]:\n",
    "\n",
    "            # Use filters to check if user meets conditions\n",
    "            # YOUR CODE HERE\n",
    "            if (tweet['user']['followers_count'] < max_followers and\n",
    "                tweet['user']['statuses_count'] < min_tweets and\n",
    "                tweet['user']['statuses_count'] < max_tweets and\n",
    "                tweet['user']['lang'] < lang):\n",
    "\n",
    "                # Run Vader Analysis on each tweet\n",
    "                # YOUR CODE HERE\n",
    "                \n",
    "#                 results = analyzer.polarity_scores(tweet['text'])\n",
    "#                 compound = results['compound']\n",
    "#                 pos = \n",
    "#                 neg = \n",
    "#                 neg = \n",
    "                \n",
    "                # Add each value to the appropriate list\n",
    "                # YOUR CODE HERE\n",
    "                target_string = tweet['text']\n",
    "                results = analyser.polarity_scores(target_string)\n",
    "                \n",
    "                compound_list.append(results['compound'])\n",
    "                positive_list.append(results['pos'])\n",
    "                negative_list.append(results['neg'])\n",
    "                neutral_list.append(results['neu'])\n",
    "                \n",
    "            # Set the new oldest_tweet value\n",
    "            oldest_tweet = tweet[\"id\"] - 1\n",
    "\n",
    "    # Create a dictionary of the Average Sentiments\n",
    "    # YOUR CODE HERE\n",
    "    sentiment = {'airline': target\n",
    "                 ,'compound' : np.mean(compound_list)\n",
    "                 ,'positive':np.mean(positive_list)\n",
    "                 ,'negative':np.mean(negative_list)\n",
    "                 ,'neutral':np.mean(neutral_list)}\n",
    "    # Print the Sentiments\n",
    "    print(sentiment)\n",
    "    print()\n",
    "    \n",
    "    # Append the dictionary to results_list\n",
    "    results_list.append(sentiment)"
   ]
  },
  {
   "cell_type": "code",
   "execution_count": 12,
   "metadata": {
    "scrolled": true
   },
   "outputs": [
    {
     "ename": "AttributeError",
     "evalue": "'list' object has no attribute 'set_index'",
     "output_type": "error",
     "traceback": [
      "\u001b[1;31m---------------------------------------------------------------------------\u001b[0m",
      "\u001b[1;31mAttributeError\u001b[0m                            Traceback (most recent call last)",
      "\u001b[1;32m<ipython-input-12-dca5ec537b2a>\u001b[0m in \u001b[0;36m<module>\u001b[1;34m()\u001b[0m\n\u001b[0;32m      1\u001b[0m \u001b[1;31m# creating a DataFrame using results_list and display\u001b[0m\u001b[1;33m\u001b[0m\u001b[1;33m\u001b[0m\u001b[0m\n\u001b[1;32m----> 2\u001b[1;33m \u001b[0mmtairlineDf\u001b[0m \u001b[1;33m=\u001b[0m \u001b[0mpd\u001b[0m\u001b[1;33m.\u001b[0m\u001b[0mDataFrame\u001b[0m\u001b[1;33m(\u001b[0m\u001b[0mresults_list\u001b[0m\u001b[1;33m.\u001b[0m\u001b[0mset_index\u001b[0m\u001b[1;33m(\u001b[0m\u001b[1;34m'Airline'\u001b[0m\u001b[1;33m)\u001b[0m\u001b[1;33m)\u001b[0m\u001b[1;33m\u001b[0m\u001b[0m\n\u001b[0m\u001b[0;32m      3\u001b[0m \u001b[0mmtairlineDf\u001b[0m\u001b[1;33m\u001b[0m\u001b[0m\n",
      "\u001b[1;31mAttributeError\u001b[0m: 'list' object has no attribute 'set_index'"
     ]
    }
   ],
   "source": [
    "# creating a DataFrame using results_list and display\n",
    "mtairlineDf = pd.DataFrame(results_list.set_index('Airline'))\n",
    "mtairlineDf"
   ]
  },
  {
   "cell_type": "code",
   "execution_count": null,
   "metadata": {},
   "outputs": [],
   "source": []
  }
 ],
 "metadata": {
  "kernelspec": {
   "display_name": "Python 3",
   "language": "python",
   "name": "python3"
  },
  "language_info": {
   "codemirror_mode": {
    "name": "ipython",
    "version": 3
   },
   "file_extension": ".py",
   "mimetype": "text/x-python",
   "name": "python",
   "nbconvert_exporter": "python",
   "pygments_lexer": "ipython3",
   "version": "3.6.5"
  }
 },
 "nbformat": 4,
 "nbformat_minor": 2
}
