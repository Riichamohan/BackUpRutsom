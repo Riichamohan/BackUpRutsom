{
 "cells": [
  {
   "cell_type": "code",
   "execution_count": 7,
   "metadata": {},
   "outputs": [],
   "source": [
    "# Dependencies\n",
    "# ----------------------------------\n",
    "from sqlalchemy import create_engine\n",
    "from sqlalchemy.ext.declarative import declarative_base\n",
    "Base = declarative_base()\n",
    "# table, mapper and class object to defined a mapped class"
   ]
  },
  {
   "cell_type": "code",
   "execution_count": 22,
   "metadata": {},
   "outputs": [],
   "source": [
    "# Define the Surfer Class\n",
    "# Define a class\n",
    "class TheSurfer():\n",
    "    def __init__(self, name, hometown, rank):\n",
    "        self.name = name + \" \" + \"Dude\"\n",
    "        self.hometown = hometown + ' ' + \"Waves\"\n",
    "        self.rank = rank\n",
    "        # self.Organisation = organisation\n",
    "        \n",
    "    def surferInfo(self):\n",
    "        print(f\"Hey my name is : {self.name}, I am from {self.hometown}\")\n",
    "        \n",
    "   \n"
   ]
  },
  {
   "cell_type": "code",
   "execution_count": 23,
   "metadata": {},
   "outputs": [],
   "source": [
    "# Create an instance of the Surfer Class\n",
    "\n",
    "# Create a Specific Instance of the Dog and Cat classes\n",
    "# ----------------------------------\n",
    "surfe_Inst = TheSurfer(\"Celly\",'Ponoma',1)\n",
    "# surfer_1 = Surfer('Mr White','Kolkata',2)\n",
    "# surfer_2 = Surfer(name='Mr Green')\n"
   ]
  },
  {
   "cell_type": "code",
   "execution_count": null,
   "metadata": {},
   "outputs": [],
   "source": [
    "# Print the object's attributes\n",
    "# surfer_List = session.query(Surfer)\n",
    "# for surfer in surfer_List:\n",
    "#     print(Surfer.name)\n",
    "#     print(Surfer.hometown)\n",
    "#     print(Surfer.rank)\n"
   ]
  },
  {
   "cell_type": "code",
   "execution_count": null,
   "metadata": {},
   "outputs": [],
   "source": [
    "# surfe_Inst.surferInfo"
   ]
  },
  {
   "cell_type": "code",
   "execution_count": null,
   "metadata": {},
   "outputs": [],
   "source": [
    "# ----BONUS----\n",
    "# Variable to keep track of changes to while loop\n",
    "\n",
    "go = True\n",
    "\n",
    "# While \n",
    "\n",
    "While go:\n",
    "\n",
    "\n",
    "\n",
    "\n",
    "IF(CHECK.LOWER()='Y')\n",
    "\n",
    "\n",
    "ELSE\n"
   ]
  }
 ],
 "metadata": {
  "kernelspec": {
   "display_name": "Python 3",
   "language": "python",
   "name": "python3"
  },
  "language_info": {
   "codemirror_mode": {
    "name": "ipython",
    "version": 3
   },
   "file_extension": ".py",
   "mimetype": "text/x-python",
   "name": "python",
   "nbconvert_exporter": "python",
   "pygments_lexer": "ipython3",
   "version": "3.6.5"
  },
  "varInspector": {
   "cols": {
    "lenName": 16,
    "lenType": 16,
    "lenVar": 40
   },
   "kernels_config": {
    "python": {
     "delete_cmd_postfix": "",
     "delete_cmd_prefix": "del ",
     "library": "var_list.py",
     "varRefreshCmd": "print(var_dic_list())"
    },
    "r": {
     "delete_cmd_postfix": ") ",
     "delete_cmd_prefix": "rm(",
     "library": "var_list.r",
     "varRefreshCmd": "cat(var_dic_list()) "
    }
   },
   "types_to_exclude": [
    "module",
    "function",
    "builtin_function_or_method",
    "instance",
    "_Feature"
   ],
   "window_display": false
  }
 },
 "nbformat": 4,
 "nbformat_minor": 2
}
